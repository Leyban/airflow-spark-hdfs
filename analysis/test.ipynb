{
 "cells": [
  {
   "cell_type": "code",
   "execution_count": 1,
   "metadata": {},
   "outputs": [],
   "source": [
    "import psycopg2\n",
    "import logging"
   ]
  },
  {
   "cell_type": "code",
   "execution_count": 2,
   "metadata": {},
   "outputs": [],
   "source": [
    "\n",
    "\n",
    "def get_simpleplay_version():    \n",
    "    try:\n",
    "        # Define connection\n",
    "        conn = psycopg2.connect(\"host=172.17.0.1 dbname=collectorDB user=postgres port=5432\", password='secret')\n",
    "        cursor = conn.cursor()\n",
    "\n",
    "        # Execute Query\n",
    "        cursor.execute(\"SELECT row_version FROM pgsoft_version LIMIT 1\")\n",
    "\n",
    "        # Get all results\n",
    "        pgsoft_version = cursor.fetchone()\n",
    "\n",
    "        print(f\"====================== PG_SOFT Version {pgsoft_version[0]} ======================\")\n",
    "        cursor.close()\n",
    "        conn.close()\n",
    "            \n",
    "        return pgsoft_version[0]\n",
    "    \n",
    "    except:\n",
    "        logging.fatal(\"Unable to fetch data\") "
   ]
  },
  {
   "cell_type": "code",
   "execution_count": 4,
   "metadata": {},
   "outputs": [
    {
     "name": "stdout",
     "output_type": "stream",
     "text": [
      "====================== PG_SOFT Version 4 ======================\n"
     ]
    },
    {
     "data": {
      "text/plain": [
       "4"
      ]
     },
     "execution_count": 4,
     "metadata": {},
     "output_type": "execute_result"
    }
   ],
   "source": [
    "temp = get_simpleplay_version()\n",
    "temp"
   ]
  },
  {
   "cell_type": "code",
   "execution_count": null,
   "metadata": {},
   "outputs": [],
   "source": []
  }
 ],
 "metadata": {
  "kernelspec": {
   "display_name": "airflow_env",
   "language": "python",
   "name": "python3"
  },
  "language_info": {
   "codemirror_mode": {
    "name": "ipython",
    "version": 3
   },
   "file_extension": ".py",
   "mimetype": "text/x-python",
   "name": "python",
   "nbconvert_exporter": "python",
   "pygments_lexer": "ipython3",
   "version": "3.10.12"
  },
  "orig_nbformat": 4
 },
 "nbformat": 4,
 "nbformat_minor": 2
}
