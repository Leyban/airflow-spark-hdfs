{
 "cells": [
  {
   "cell_type": "code",
   "execution_count": 2,
   "metadata": {},
   "outputs": [],
   "source": [
    "from pyhive import hive"
   ]
  },
  {
   "cell_type": "code",
   "execution_count": 4,
   "metadata": {},
   "outputs": [],
   "source": [
    "# Create a connection to Hive\n",
    "conn = hive.Connection(host=\"172.17.0.2\", port=10000, username=\"scott\")"
   ]
  },
  {
   "cell_type": "code",
   "execution_count": 5,
   "metadata": {},
   "outputs": [],
   "source": [
    "# Create a cursor\n",
    "cursor = conn.cursor()"
   ]
  },
  {
   "cell_type": "code",
   "execution_count": 6,
   "metadata": {},
   "outputs": [],
   "source": [
    "# Execute a Hive query\n",
    "cursor.execute(\"CREATE TABLE IF NOT EXISTS hoobaloo (id int, name string)\")"
   ]
  },
  {
   "cell_type": "code",
   "execution_count": 7,
   "metadata": {},
   "outputs": [
    {
     "ename": "ProgrammingError",
     "evalue": "No result set",
     "output_type": "error",
     "traceback": [
      "\u001b[0;31m---------------------------------------------------------------------------\u001b[0m",
      "\u001b[0;31mProgrammingError\u001b[0m                          Traceback (most recent call last)",
      "Cell \u001b[0;32mIn[7], line 2\u001b[0m\n\u001b[1;32m      1\u001b[0m \u001b[39m# Fetch the results\u001b[39;00m\n\u001b[0;32m----> 2\u001b[0m results \u001b[39m=\u001b[39m cursor\u001b[39m.\u001b[39;49mfetchall()\n",
      "File \u001b[0;32m~/Desktop/airflow/airflow_env/lib/python3.10/site-packages/pyhive/common.py:142\u001b[0m, in \u001b[0;36mDBAPICursor.fetchall\u001b[0;34m(self)\u001b[0m\n\u001b[1;32m    135\u001b[0m \u001b[39mdef\u001b[39;00m \u001b[39mfetchall\u001b[39m(\u001b[39mself\u001b[39m):\n\u001b[1;32m    136\u001b[0m \u001b[39m    \u001b[39m\u001b[39m\"\"\"Fetch all (remaining) rows of a query result, returning them as a sequence of sequences\u001b[39;00m\n\u001b[1;32m    137\u001b[0m \u001b[39m    (e.g. a list of tuples).\u001b[39;00m\n\u001b[1;32m    138\u001b[0m \n\u001b[1;32m    139\u001b[0m \u001b[39m    An :py:class:`~pyhive.exc.Error` (or subclass) exception is raised if the previous call to\u001b[39;00m\n\u001b[1;32m    140\u001b[0m \u001b[39m    :py:meth:`execute` did not produce any result set or no call was issued yet.\u001b[39;00m\n\u001b[1;32m    141\u001b[0m \u001b[39m    \"\"\"\u001b[39;00m\n\u001b[0;32m--> 142\u001b[0m     \u001b[39mreturn\u001b[39;00m \u001b[39mlist\u001b[39;49m(\u001b[39miter\u001b[39;49m(\u001b[39mself\u001b[39;49m\u001b[39m.\u001b[39;49mfetchone, \u001b[39mNone\u001b[39;49;00m))\n",
      "File \u001b[0;32m~/Desktop/airflow/airflow_env/lib/python3.10/site-packages/pyhive/common.py:111\u001b[0m, in \u001b[0;36mDBAPICursor.fetchone\u001b[0;34m(self)\u001b[0m\n\u001b[1;32m    108\u001b[0m     \u001b[39mraise\u001b[39;00m exc\u001b[39m.\u001b[39mProgrammingError(\u001b[39m\"\u001b[39m\u001b[39mNo query yet\u001b[39m\u001b[39m\"\u001b[39m)\n\u001b[1;32m    110\u001b[0m \u001b[39m# Sleep until we're done or we have some data to return\u001b[39;00m\n\u001b[0;32m--> 111\u001b[0m \u001b[39mself\u001b[39;49m\u001b[39m.\u001b[39;49m_fetch_while(\u001b[39mlambda\u001b[39;49;00m: \u001b[39mnot\u001b[39;49;00m \u001b[39mself\u001b[39;49m\u001b[39m.\u001b[39;49m_data \u001b[39mand\u001b[39;49;00m \u001b[39mself\u001b[39;49m\u001b[39m.\u001b[39;49m_state \u001b[39m!=\u001b[39;49m \u001b[39mself\u001b[39;49m\u001b[39m.\u001b[39;49m_STATE_FINISHED)\n\u001b[1;32m    113\u001b[0m \u001b[39mif\u001b[39;00m \u001b[39mnot\u001b[39;00m \u001b[39mself\u001b[39m\u001b[39m.\u001b[39m_data:\n\u001b[1;32m    114\u001b[0m     \u001b[39mreturn\u001b[39;00m \u001b[39mNone\u001b[39;00m\n",
      "File \u001b[0;32m~/Desktop/airflow/airflow_env/lib/python3.10/site-packages/pyhive/common.py:51\u001b[0m, in \u001b[0;36mDBAPICursor._fetch_while\u001b[0;34m(self, fn)\u001b[0m\n\u001b[1;32m     49\u001b[0m \u001b[39mdef\u001b[39;00m \u001b[39m_fetch_while\u001b[39m(\u001b[39mself\u001b[39m, fn):\n\u001b[1;32m     50\u001b[0m     \u001b[39mwhile\u001b[39;00m fn():\n\u001b[0;32m---> 51\u001b[0m         \u001b[39mself\u001b[39;49m\u001b[39m.\u001b[39;49m_fetch_more()\n\u001b[1;32m     52\u001b[0m         \u001b[39mif\u001b[39;00m fn():\n\u001b[1;32m     53\u001b[0m             time\u001b[39m.\u001b[39msleep(\u001b[39mself\u001b[39m\u001b[39m.\u001b[39m_poll_interval)\n",
      "File \u001b[0;32m~/Desktop/airflow/airflow_env/lib/python3.10/site-packages/pyhive/hive.py:496\u001b[0m, in \u001b[0;36mCursor._fetch_more\u001b[0;34m(self)\u001b[0m\n\u001b[1;32m    494\u001b[0m \u001b[39massert\u001b[39;00m(\u001b[39mself\u001b[39m\u001b[39m.\u001b[39m_operationHandle \u001b[39mis\u001b[39;00m \u001b[39mnot\u001b[39;00m \u001b[39mNone\u001b[39;00m), \u001b[39m\"\u001b[39m\u001b[39mShould have an op handle in _fetch_more\u001b[39m\u001b[39m\"\u001b[39m\n\u001b[1;32m    495\u001b[0m \u001b[39mif\u001b[39;00m \u001b[39mnot\u001b[39;00m \u001b[39mself\u001b[39m\u001b[39m.\u001b[39m_operationHandle\u001b[39m.\u001b[39mhasResultSet:\n\u001b[0;32m--> 496\u001b[0m     \u001b[39mraise\u001b[39;00m ProgrammingError(\u001b[39m\"\u001b[39m\u001b[39mNo result set\u001b[39m\u001b[39m\"\u001b[39m)\n\u001b[1;32m    497\u001b[0m req \u001b[39m=\u001b[39m ttypes\u001b[39m.\u001b[39mTFetchResultsReq(\n\u001b[1;32m    498\u001b[0m     operationHandle\u001b[39m=\u001b[39m\u001b[39mself\u001b[39m\u001b[39m.\u001b[39m_operationHandle,\n\u001b[1;32m    499\u001b[0m     orientation\u001b[39m=\u001b[39mttypes\u001b[39m.\u001b[39mTFetchOrientation\u001b[39m.\u001b[39mFETCH_NEXT,\n\u001b[1;32m    500\u001b[0m     maxRows\u001b[39m=\u001b[39m\u001b[39mself\u001b[39m\u001b[39m.\u001b[39marraysize,\n\u001b[1;32m    501\u001b[0m )\n\u001b[1;32m    502\u001b[0m response \u001b[39m=\u001b[39m \u001b[39mself\u001b[39m\u001b[39m.\u001b[39m_connection\u001b[39m.\u001b[39mclient\u001b[39m.\u001b[39mFetchResults(req)\n",
      "\u001b[0;31mProgrammingError\u001b[0m: No result set"
     ]
    }
   ],
   "source": [
    "# Fetch the results\n",
    "results = cursor.fetchall()"
   ]
  },
  {
   "cell_type": "code",
   "execution_count": 8,
   "metadata": {},
   "outputs": [
    {
     "ename": "NameError",
     "evalue": "name 'results' is not defined",
     "output_type": "error",
     "traceback": [
      "\u001b[0;31m---------------------------------------------------------------------------\u001b[0m",
      "\u001b[0;31mNameError\u001b[0m                                 Traceback (most recent call last)",
      "Cell \u001b[0;32mIn[8], line 2\u001b[0m\n\u001b[1;32m      1\u001b[0m \u001b[39m# Process the results as needed\u001b[39;00m\n\u001b[0;32m----> 2\u001b[0m \u001b[39mfor\u001b[39;00m row \u001b[39min\u001b[39;00m results:\n\u001b[1;32m      3\u001b[0m     \u001b[39mprint\u001b[39m(row)\n",
      "\u001b[0;31mNameError\u001b[0m: name 'results' is not defined"
     ]
    }
   ],
   "source": [
    "# Process the results as needed\n",
    "for row in results:\n",
    "    print(row)"
   ]
  },
  {
   "cell_type": "code",
   "execution_count": 9,
   "metadata": {},
   "outputs": [],
   "source": [
    "# Close the cursor and connection\n",
    "cursor.close()\n",
    "conn.close()"
   ]
  },
  {
   "cell_type": "code",
   "execution_count": null,
   "metadata": {},
   "outputs": [],
   "source": []
  }
 ],
 "metadata": {
  "kernelspec": {
   "display_name": "airflow_env",
   "language": "python",
   "name": "python3"
  },
  "language_info": {
   "codemirror_mode": {
    "name": "ipython",
    "version": 3
   },
   "file_extension": ".py",
   "mimetype": "text/x-python",
   "name": "python",
   "nbconvert_exporter": "python",
   "pygments_lexer": "ipython3",
   "version": "3.10.12"
  },
  "orig_nbformat": 4
 },
 "nbformat": 4,
 "nbformat_minor": 2
}
