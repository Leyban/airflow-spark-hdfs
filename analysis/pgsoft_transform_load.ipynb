{
 "cells": [
  {
   "cell_type": "code",
   "execution_count": 1,
   "metadata": {},
   "outputs": [],
   "source": [
    "from datetime import datetime, timedelta, timezone\n",
    "import requests\n",
    "import json\n",
    "\n",
    "from pyspark.sql import SparkSession\n",
    "from pyspark.conf import SparkConf\n",
    "from pyspark.sql import Row\n",
    "from datetime import date\n",
    "from pyspark.sql.functions import lit, current_timestamp\n",
    "import pyspark"
   ]
  },
  {
   "cell_type": "code",
   "execution_count": 2,
   "metadata": {},
   "outputs": [
    {
     "name": "stderr",
     "output_type": "stream",
     "text": [
      "23/08/11 11:43:17 WARN Utils: Your hostname, tns-des180 resolves to a loopback address: 127.0.1.1; using 172.24.31.35 instead (on interface enp2s0)\n",
      "23/08/11 11:43:17 WARN Utils: Set SPARK_LOCAL_IP if you need to bind to another address\n",
      "23/08/11 11:43:17 WARN NativeCodeLoader: Unable to load native-hadoop library for your platform... using builtin-java classes where applicable\n",
      "Setting default log level to \"WARN\".\n",
      "To adjust logging level use sc.setLogLevel(newLevel). For SparkR, use setLogLevel(newLevel).\n",
      "23/08/11 11:43:18 WARN Utils: Service 'SparkUI' could not bind on port 4040. Attempting port 4041.\n"
     ]
    }
   ],
   "source": [
    "spark = SparkSession.builder \\\n",
    "    .appName(\"Clean_PGSoft_Save_to_HDFS\") \\\n",
    "    .master(\"local\") \\\n",
    "    .enableHiveSupport() \\\n",
    "    .config(\"spark.jars\", \"../postgresql-42.6.0.jar\") \\\n",
    "    .getOrCreate()"
   ]
  },
  {
   "cell_type": "code",
   "execution_count": 3,
   "metadata": {},
   "outputs": [
    {
     "name": "stderr",
     "output_type": "stream",
     "text": [
      "                                                                                \r"
     ]
    }
   ],
   "source": [
    "parDF1=spark.read.parquet(\"./user/hive/datalake/wagers/pgsoft\")"
   ]
  },
  {
   "cell_type": "code",
   "execution_count": 4,
   "metadata": {},
   "outputs": [],
   "source": [
    "# parDF2=spark.read.parquet(\"./user/hive/datalake/wagers/pgsoft2\")"
   ]
  },
  {
   "cell_type": "code",
   "execution_count": 5,
   "metadata": {},
   "outputs": [],
   "source": [
    "# parDF3=spark.read.parquet(\"./user/hive/datalake/wagers/pgsoft3\")"
   ]
  },
  {
   "cell_type": "code",
   "execution_count": 6,
   "metadata": {},
   "outputs": [
    {
     "name": "stderr",
     "output_type": "stream",
     "text": [
      "23/08/11 11:43:22 WARN package: Truncated the string representation of a plan since it was too large. This behavior can be adjusted by setting 'spark.sql.debug.maxToStringFields'.\n",
      "[Stage 2:==================================================>        (6 + 1) / 7]\r"
     ]
    },
    {
     "name": "stdout",
     "output_type": "stream",
     "text": [
      "+-------+-----------------+------------------+-----------------+-----------------+-----------------+--------+------------------+------------------+----------------------------+-----------------+------------------+------------------+----------+-----------------+-----------------+------------------+-----------------+------------------+\n",
      "|summary|     balanceAfter|     balanceBefore|        betAmount|            betId|          betType|currency|            gameId|                id|jackpotRtpContributionAmount| jackpotWinAmount|       parentBetId|          platform|playerName|       rowVersion|  transactionType|         winAmount|             year|           quarter|\n",
      "+-------+-----------------+------------------+-----------------+-----------------+-----------------+--------+------------------+------------------+----------------------------+-----------------+------------------+------------------+----------+-----------------+-----------------+------------------+-----------------+------------------+\n",
      "|  count|             5003|              5003|             5003|             5000|             5003|    5000|              5003|              5006|                        5003|             5003|              5003|              5003|      5000|             5003|             5003|              5003|             5003|              5003|\n",
      "|   mean|512.9520287827304|511.51948830701576|521.4369378372976|      499613.5366|514.7657405556666|    null| 520.3735758544873|            2503.5|           509.4481311213272|507.3587847291625|493743.86967819306|510.19928043174093|      null|515.2796322206676| 517.879672196682|510.30821507095743|1996.120927443534|  2.49370377773336|\n",
      "| stddev|293.1006825194105|295.38708292421086|295.2834984095866|289828.3536273405|296.5631649501741|    null|296.88847443247994|1445.2520541414221|          293.66407138646684|294.4288709557223| 289484.4756388505|295.03101454536005|      null|297.0507927771088|295.1773901163131| 296.0187752497331|15.67492540539652|1.1115826947936778|\n",
      "|    min|                1|                 1|                1|               87|                1|   aalvm|                 1|                 1|                           1|                1|               123|                 1|     aaimi|                1|                1|                 1|             1970|                 1|\n",
      "|    max|             1024|              1024|             1024|           999850|             1024|   zzwhc|              1024|              5006|                        1024|             1024|            999989|              1023|     zzdiu|             1023|             1024|              1023|             2023|                 4|\n",
      "+-------+-----------------+------------------+-----------------+-----------------+-----------------+--------+------------------+------------------+----------------------------+-----------------+------------------+------------------+----------+-----------------+-----------------+------------------+-----------------+------------------+\n",
      "\n"
     ]
    },
    {
     "name": "stderr",
     "output_type": "stream",
     "text": [
      "                                                                                \r"
     ]
    }
   ],
   "source": [
    "parDF1.describe().show()"
   ]
  },
  {
   "cell_type": "code",
   "execution_count": 7,
   "metadata": {},
   "outputs": [],
   "source": [
    "dropDisDF = parDF1.dropDuplicates([\"betId\"])"
   ]
  },
  {
   "cell_type": "code",
   "execution_count": 8,
   "metadata": {},
   "outputs": [
    {
     "name": "stderr",
     "output_type": "stream",
     "text": [
      "[Stage 5:==================================================>        (6 + 1) / 7]\r"
     ]
    },
    {
     "name": "stdout",
     "output_type": "stream",
     "text": [
      "+-------+-----------------+-----------------+------------------+------------------+-----------------+--------+-----------------+------------------+----------------------------+------------------+------------------+------------------+----------+-----------------+-----------------+-----------------+------------------+------------------+\n",
      "|summary|     balanceAfter|    balanceBefore|         betAmount|             betId|          betType|currency|           gameId|                id|jackpotRtpContributionAmount|  jackpotWinAmount|       parentBetId|          platform|playerName|       rowVersion|  transactionType|        winAmount|              year|           quarter|\n",
      "+-------+-----------------+-----------------+------------------+------------------+-----------------+--------+-----------------+------------------+----------------------------+------------------+------------------+------------------+----------+-----------------+-----------------+-----------------+------------------+------------------+\n",
      "|  count|             4987|             4987|              4987|              4986|             4987|    4986|             4987|              4987|                        4987|              4987|              4987|              4987|      4986|             4987|             4987|             4987|              4987|              4987|\n",
      "|   mean|512.9897734108682| 511.855825145378| 521.3477040304792|499143.41456077015|514.5760978544215|    null|520.6127932624825|2500.5001002606778|           509.6921997192701| 507.5564467615801|493982.51413675555| 510.3795869260076|      null|515.3364748345699|517.9348305594546|510.2701022658913|1996.0920393021856|2.4936835773009824|\n",
      "| stddev|293.0288713935973|295.1404342346752|295.06896033305105| 289742.3440822351|296.3588621666139|    null|296.7606684939564|1442.7802850095582|           293.6762089603102|294.41753223143144|  289132.093098015|295.05283217579824|      null|297.0390803948778|295.1912634779028|295.9980516911278|15.662497550349356|1.1115618750130614|\n",
      "|    min|                1|                1|                 1|                87|                1|   aalvm|                1|                 1|                           1|                 1|               123|                 1|     aaimi|                1|                1|                1|              1970|                 1|\n",
      "|    max|             1024|             1024|              1024|            999850|             1024|   zzwhc|             1024|              5001|                        1024|              1024|            999989|              1023|     zzdiu|             1023|             1024|             1023|              2023|                 4|\n",
      "+-------+-----------------+-----------------+------------------+------------------+-----------------+--------+-----------------+------------------+----------------------------+------------------+------------------+------------------+----------+-----------------+-----------------+-----------------+------------------+------------------+\n",
      "\n"
     ]
    },
    {
     "name": "stderr",
     "output_type": "stream",
     "text": [
      "                                                                                \r"
     ]
    }
   ],
   "source": [
    "dropDisDF.describe().show()"
   ]
  },
  {
   "cell_type": "code",
   "execution_count": 9,
   "metadata": {},
   "outputs": [],
   "source": [
    "dropDisDF = dropDisDF.na.drop(subset=[\"betId\"]) "
   ]
  },
  {
   "cell_type": "code",
   "execution_count": 10,
   "metadata": {},
   "outputs": [
    {
     "name": "stdout",
     "output_type": "stream",
     "text": [
      "+-------+-----------------+------------------+------------------+------------------+-----------------+--------+-----------------+------------------+----------------------------+------------------+------------------+-----------------+----------+-----------------+-----------------+------------------+------------------+------------------+\n",
      "|summary|     balanceAfter|     balanceBefore|         betAmount|             betId|          betType|currency|           gameId|                id|jackpotRtpContributionAmount|  jackpotWinAmount|       parentBetId|         platform|playerName|       rowVersion|  transactionType|         winAmount|              year|           quarter|\n",
      "+-------+-----------------+------------------+------------------+------------------+-----------------+--------+-----------------+------------------+----------------------------+------------------+------------------+-----------------+----------+-----------------+-----------------+------------------+------------------+------------------+\n",
      "|  count|             4986|              4986|              4986|              4986|             4986|    4986|             4986|              4986|                        4986|              4986|              4986|             4986|      4986|             4986|             4986|              4986|              4986|              4986|\n",
      "|   mean|513.0679903730445| 511.9338146811071| 521.4275972723626|499143.41456077015|514.6546329723225|    null|520.6925391095066|2499.9985960689933|          509.76975531488165| 507.6335740072202|494081.56337745686|510.4572803850782|      null|515.4151624548737|518.0140393100681| 510.3477737665463|1996.0866425992779| 2.493582029683113|\n",
      "| stddev|293.0061915302783|295.11863896569406|295.04460481257786| 289742.3440822351|296.3366817362016|    null|296.7369880089924| 1442.490212179872|            293.654583787754|294.39667136071154|289076.46221494925|295.0314025074979|      null|297.0168857388172|295.1678627578973|295.97690853039126|15.659430621244445|1.1116502254130785|\n",
      "|    min|                1|                 1|                 1|                87|                1|   aalvm|                1|                 1|                           1|                 1|               138|                1|     aaimi|                1|                1|                 1|              1970|                 1|\n",
      "|    max|             1024|              1024|              1024|            999850|             1024|   zzwhc|             1024|              5000|                        1024|              1024|            999989|             1023|     zzdiu|             1023|             1024|              1023|              2023|                 4|\n",
      "+-------+-----------------+------------------+------------------+------------------+-----------------+--------+-----------------+------------------+----------------------------+------------------+------------------+-----------------+----------+-----------------+-----------------+------------------+------------------+------------------+\n",
      "\n"
     ]
    }
   ],
   "source": [
    "dropDisDF.describe().show()"
   ]
  },
  {
   "cell_type": "code",
   "execution_count": 11,
   "metadata": {},
   "outputs": [],
   "source": [
    "# dropDisDF.select(\"id\",\"name\",\"marks\").write.format(\"jdbc\")\\\n",
    "#     .option(\"url\", \"jdbc:postgresql://localhost:5432/dezyre_new\") \\\n",
    "#     .option(\"driver\", \"org.postgresql.Driver\").option(\"dbtable\", \"students\") \\\n",
    "#     .option(\"user\", \"hduser\").option(\"password\", \"bigdata\").save()"
   ]
  },
  {
   "cell_type": "markdown",
   "metadata": {},
   "source": [
    "# Save to Postgres"
   ]
  },
  {
   "cell_type": "code",
   "execution_count": 12,
   "metadata": {},
   "outputs": [],
   "source": [
    "# import psycopg2"
   ]
  },
  {
   "cell_type": "code",
   "execution_count": 13,
   "metadata": {},
   "outputs": [],
   "source": [
    "# conn = psycopg2.connect(\n",
    "#     database=\"collectorDB\",\n",
    "#     host='172.17.0.1',\n",
    "#     user='airflow',\n",
    "#     password='airflow',\n",
    "#     port='5432'\n",
    "# )\n",
    "# cursor = conn.cursor()\n"
   ]
  },
  {
   "cell_type": "code",
   "execution_count": 14,
   "metadata": {},
   "outputs": [
    {
     "name": "stdout",
     "output_type": "stream",
     "text": [
      "+-------+-----------------+------------------+------------------+------------------+-----------------+--------+-----------------+------------------+----------------------------+------------------+------------------+-----------------+----------+-----------------+-----------------+------------------+------------------+------------------+\n",
      "|summary|     balanceAfter|     balanceBefore|         betAmount|             betId|          betType|currency|           gameId|                id|jackpotRtpContributionAmount|  jackpotWinAmount|       parentBetId|         platform|playerName|       rowVersion|  transactionType|         winAmount|              year|           quarter|\n",
      "+-------+-----------------+------------------+------------------+------------------+-----------------+--------+-----------------+------------------+----------------------------+------------------+------------------+-----------------+----------+-----------------+-----------------+------------------+------------------+------------------+\n",
      "|  count|             4986|              4986|              4986|              4986|             4986|    4986|             4986|              4986|                        4986|              4986|              4986|             4986|      4986|             4986|             4986|              4986|              4986|              4986|\n",
      "|   mean|513.0679903730445| 511.9338146811071| 521.4275972723626|499143.41456077015|514.6546329723225|    null|520.6925391095066|2499.9985960689933|          509.76975531488165| 507.6335740072202|494081.56337745686|510.4572803850782|      null|515.4151624548737|518.0140393100681| 510.3477737665463|1996.0866425992779| 2.493582029683113|\n",
      "| stddev|293.0061915302783|295.11863896569406|295.04460481257786| 289742.3440822351|296.3366817362016|    null|296.7369880089924| 1442.490212179872|            293.654583787754|294.39667136071154|289076.46221494925|295.0314025074979|      null|297.0168857388172|295.1678627578973|295.97690853039126|15.659430621244445|1.1116502254130785|\n",
      "|    min|                1|                 1|                 1|                87|                1|   aalvm|                1|                 1|                           1|                 1|               138|                1|     aaimi|                1|                1|                 1|              1970|                 1|\n",
      "|    max|             1024|              1024|              1024|            999850|             1024|   zzwhc|             1024|              5000|                        1024|              1024|            999989|             1023|     zzdiu|             1023|             1024|              1023|              2023|                 4|\n",
      "+-------+-----------------+------------------+------------------+------------------+-----------------+--------+-----------------+------------------+----------------------------+------------------+------------------+-----------------+----------+-----------------+-----------------+------------------+------------------+------------------+\n",
      "\n"
     ]
    }
   ],
   "source": [
    "dropDisDF.describe().show()"
   ]
  },
  {
   "cell_type": "code",
   "execution_count": 15,
   "metadata": {},
   "outputs": [],
   "source": [
    "postgresDF = dropDisDF \\\n",
    "    .withColumnRenamed(\"balanceAfter\",\"balance_after\") \\\n",
    "    .withColumnRenamed(\"balanceBefore\",\"balance_before\") \\\n",
    "    .withColumnRenamed(\"betAmount\",\"bet_amount\") \\\n",
    "    .withColumnRenamed(\"betId\",\"bet_id\") \\\n",
    "    .withColumnRenamed(\"betType\",\"bet_type\") \\\n",
    "    .withColumnRenamed(\"betTime\",\"bet_time\") \\\n",
    "    .withColumnRenamed(\"gameId\",\"game_id\") \\\n",
    "    .withColumnRenamed(\"gameId\",\"game_id\") \\\n",
    "    .withColumnRenamed(\"jackpotRtpContributionAmount\",\"jackpot_rtp_contribution_amount\") \\\n",
    "    .withColumnRenamed(\"jackpotWinAmount\",\"jackpot_win_amount\") \\\n",
    "    .withColumnRenamed(\"parentBetId\",\"parent_bet_id\") \\\n",
    "    .withColumnRenamed(\"playerName\",\"player_name\") \\\n",
    "    .withColumnRenamed(\"rowVersion\",\"row_version\") \\\n",
    "    .withColumnRenamed(\"transactionType\",\"transaction_type\") \\\n",
    "    .withColumnRenamed(\"winAmount\",\"win_amount\") \\\n",
    "    .drop(\"id\") \\\n",
    "    .drop(\"year\") \\\n",
    "    .drop(\"quarter\")"
   ]
  },
  {
   "cell_type": "code",
   "execution_count": 16,
   "metadata": {},
   "outputs": [],
   "source": [
    "postgresDF = postgresDF.withColumn(\"update_at\", current_timestamp()).withColumn(\"create_at\", current_timestamp())"
   ]
  },
  {
   "cell_type": "code",
   "execution_count": 17,
   "metadata": {},
   "outputs": [
    {
     "name": "stdout",
     "output_type": "stream",
     "text": [
      "+-------------+--------------+----------+------+-------------------+--------+--------+-------+-------------------------------+------------------+-------------+--------+-----------+-----------+----------------+----------+--------------------+--------------------+\n",
      "|balance_after|balance_before|bet_amount|bet_id|           bet_time|bet_type|currency|game_id|jackpot_rtp_contribution_amount|jackpot_win_amount|parent_bet_id|platform|player_name|row_version|transaction_type|win_amount|           update_at|           create_at|\n",
      "+-------------+--------------+----------+------+-------------------+--------+--------+-------+-------------------------------+------------------+-------------+--------+-----------+-----------+----------------+----------+--------------------+--------------------+\n",
      "|          857|           795|       198|    87|1979-01-26 13:55:26|     767|   dbkgm|    457|                            315|               285|       809327|     153|      dpfge|        625|             906|       975|2023-08-11 11:43:...|2023-08-11 11:43:...|\n",
      "|          822|           926|       973|   778|2003-09-13 01:36:08|     493|   wxbqb|    146|                            429|               344|       406637|     448|      igorv|        947|             653|       175|2023-08-11 11:43:...|2023-08-11 11:43:...|\n",
      "|          957|           227|       775|  1255|1980-04-22 23:07:00|     453|   vffhr|    654|                            557|               956|       607261|      96|      xzrob|         60|              18|       751|2023-08-11 11:43:...|2023-08-11 11:43:...|\n",
      "|          402|            95|        71|  1300|2001-04-06 22:34:18|     110|   vdaiy|    385|                           1017|              1014|       358897|     978|      kcosc|        371|              98|       588|2023-08-11 11:43:...|2023-08-11 11:43:...|\n",
      "|          789|           478|       775|  1621|1973-01-14 00:19:00|      78|   wwhgd|    845|                            509|               327|       517824|     462|      bgthx|        933|              93|       554|2023-08-11 11:43:...|2023-08-11 11:43:...|\n",
      "|          497|             3|       422|  1694|1988-06-25 14:49:39|     579|   fohig|    844|                            123|               162|       770552|     666|      qguyq|        139|             307|      1017|2023-08-11 11:43:...|2023-08-11 11:43:...|\n",
      "|          835|           848|       622|  2092|1986-08-28 00:39:57|      50|   gtxow|    618|                            711|               944|       772634|     753|      hzakl|        333|             620|        97|2023-08-11 11:43:...|2023-08-11 11:43:...|\n",
      "|          937|           773|       731|  2494|2022-04-23 23:43:01|     727|   bfodo|    673|                            284|               928|       122784|     750|      vjffi|       1015|             459|       990|2023-08-11 11:43:...|2023-08-11 11:43:...|\n",
      "|           62|           857|       726|  2524|1984-12-28 05:45:57|     952|   hjogx|    871|                            797|               902|       867389|      19|      mhbak|        931|             379|       326|2023-08-11 11:43:...|2023-08-11 11:43:...|\n",
      "|          379|           136|       570|  2682|1974-05-06 12:17:17|     658|   lcihs|    222|                            296|               459|       624556|     433|      izbrr|        993|             116|       335|2023-08-11 11:43:...|2023-08-11 11:43:...|\n",
      "|          159|           278|       162|  2739|2007-11-19 08:07:19|     657|   gozci|    552|                            393|               833|       318464|     322|      wabqt|        719|              93|       226|2023-08-11 11:43:...|2023-08-11 11:43:...|\n",
      "|          132|           605|       615|  2952|1973-07-12 21:12:33|     799|   zpefl|   1001|                            985|               585|       944313|     604|      kbkoi|        693|             514|       586|2023-08-11 11:43:...|2023-08-11 11:43:...|\n",
      "|          443|           861|      1018|  3309|2018-06-05 03:39:41|      78|   gjwot|    133|                            108|               930|       840679|     193|      qfhdp|        845|             473|       677|2023-08-11 11:43:...|2023-08-11 11:43:...|\n",
      "|          415|           703|       942|  3333|2016-06-09 21:03:54|     787|   bfnlp|    110|                            540|               915|       241787|     659|      vrqhd|        807|             708|       410|2023-08-11 11:43:...|2023-08-11 11:43:...|\n",
      "|          226|           229|       711|  4019|1985-09-06 12:02:31|     157|   ebkcq|    426|                            301|                74|       346715|     812|      otpfx|        756|             813|       987|2023-08-11 11:43:...|2023-08-11 11:43:...|\n",
      "|          871|          1018|       394|  4157|1998-07-20 11:13:57|     601|   nprkx|    805|                            837|               156|       722733|     729|      ivrge|        843|             610|       559|2023-08-11 11:43:...|2023-08-11 11:43:...|\n",
      "|          256|           724|       614|  4174|2005-07-23 15:52:14|     482|   bnjtp|    606|                            752|                32|       801754|     582|      dqzdn|        760|             112|       789|2023-08-11 11:43:...|2023-08-11 11:43:...|\n",
      "|          177|           741|       383|  4176|1984-06-12 23:50:39|     313|   dxdur|    152|                           1017|                69|         4237|      67|      fhvmf|        804|             382|        76|2023-08-11 11:43:...|2023-08-11 11:43:...|\n",
      "|          686|           324|       364|  4424|2004-12-22 10:04:35|     547|   dtttz|    338|                             36|               704|       938153|     904|      rdzvo|        626|             744|       183|2023-08-11 11:43:...|2023-08-11 11:43:...|\n",
      "|          171|          1011|       965|  4488|2005-06-03 15:42:26|       2|   yueou|    606|                            729|               253|       596249|     198|      lquyd|        731|             299|       289|2023-08-11 11:43:...|2023-08-11 11:43:...|\n",
      "+-------------+--------------+----------+------+-------------------+--------+--------+-------+-------------------------------+------------------+-------------+--------+-----------+-----------+----------------+----------+--------------------+--------------------+\n",
      "only showing top 20 rows\n",
      "\n"
     ]
    }
   ],
   "source": [
    "postgresDF.show()"
   ]
  },
  {
   "cell_type": "code",
   "execution_count": 18,
   "metadata": {},
   "outputs": [
    {
     "name": "stdout",
     "output_type": "stream",
     "text": [
      "root\n",
      " |-- balance_after: long (nullable = true)\n",
      " |-- balance_before: long (nullable = true)\n",
      " |-- bet_amount: long (nullable = true)\n",
      " |-- bet_id: long (nullable = true)\n",
      " |-- bet_time: timestamp (nullable = true)\n",
      " |-- bet_type: long (nullable = true)\n",
      " |-- currency: string (nullable = true)\n",
      " |-- game_id: long (nullable = true)\n",
      " |-- jackpot_rtp_contribution_amount: long (nullable = true)\n",
      " |-- jackpot_win_amount: long (nullable = true)\n",
      " |-- parent_bet_id: long (nullable = true)\n",
      " |-- platform: long (nullable = true)\n",
      " |-- player_name: string (nullable = true)\n",
      " |-- row_version: long (nullable = true)\n",
      " |-- transaction_type: long (nullable = true)\n",
      " |-- win_amount: long (nullable = true)\n",
      " |-- update_at: timestamp (nullable = false)\n",
      " |-- create_at: timestamp (nullable = false)\n",
      "\n"
     ]
    }
   ],
   "source": [
    "postgresDF.printSchema()"
   ]
  },
  {
   "cell_type": "code",
   "execution_count": 19,
   "metadata": {},
   "outputs": [],
   "source": [
    "postgresDF.write.format('jdbc').options(\n",
    "  url='jdbc:postgresql://172.17.0.1:5432/collectorDB',\n",
    "  driver='org.postgresql.Driver',\n",
    "  dbtable='old_pgsoft_wager',\n",
    "  user='postgres',\n",
    "  password='secret'\n",
    "  ).mode('Append').save()"
   ]
  }
 ],
 "metadata": {
  "kernelspec": {
   "display_name": "airflow_env",
   "language": "python",
   "name": "python3"
  },
  "language_info": {
   "codemirror_mode": {
    "name": "ipython",
    "version": 3
   },
   "file_extension": ".py",
   "mimetype": "text/x-python",
   "name": "python",
   "nbconvert_exporter": "python",
   "pygments_lexer": "ipython3",
   "version": "3.10.12"
  },
  "orig_nbformat": 4
 },
 "nbformat": 4,
 "nbformat_minor": 2
}
