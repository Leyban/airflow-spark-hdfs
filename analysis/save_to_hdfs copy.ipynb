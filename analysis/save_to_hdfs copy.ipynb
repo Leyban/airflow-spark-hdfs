{
 "cells": [
  {
   "cell_type": "code",
   "execution_count": 4,
   "metadata": {},
   "outputs": [],
   "source": [
    "import requests\n",
    "\n",
    "import base64\n",
    "from pyDes import des, ECB, PAD_PKCS5\n",
    "import hashlib\n",
    "import xml.etree.ElementTree as ET\n",
    "\n",
    "import time\n",
    "import urllib.parse\n",
    "from datetime import datetime, timedelta"
   ]
  },
  {
   "cell_type": "code",
   "execution_count": 5,
   "metadata": {},
   "outputs": [],
   "source": [
    "def DESEnCode(mystr, deskey):\n",
    "    mytext = mystr.encode('utf-8')\n",
    "    key = deskey.encode('utf-8')\n",
    "    iv = deskey.encode('utf-8')\n",
    "    \n",
    "    # DES Encryption\n",
    "    k = des(key, ECB, IV=iv, pad=None, padmode=PAD_PKCS5)\n",
    "    cryptoText = k.encrypt(mytext)\n",
    "    \n",
    "    # Encoding to base64\n",
    "    encoded = base64.b64encode(cryptoText).decode('utf-8')\n",
    "    return encoded\n",
    "\n",
    "def BuildMD5(mystr):\n",
    "    h = hashlib.md5()\n",
    "    h.update(mystr.encode('utf-8'))\n",
    "    data = h.hexdigest()\n",
    "    return data"
   ]
  },
  {
   "cell_type": "code",
   "execution_count": 6,
   "metadata": {},
   "outputs": [],
   "source": [
    "defaultSPSecretKey = \"494DA5A7FC954AA4973456A08609C2F9\"\n",
    "defaultSPMd5key    = \"GgaIMaiNNtg\"\n",
    "defaultSPEncrypKey = \"g9G16nTs\"\n",
    "\n",
    "# Get the current date\n",
    "today = datetime.now()\n",
    "\n",
    "# Calculate the date one year ago from today\n",
    "yesterday = today - timedelta(days=1)\n",
    "\n",
    "# Format the dates as strings in the format \"YYYYMMDDHHMMSS\"\n",
    "dateFrom = yesterday.strftime(\"%Y%m%d%H%M%S\")\n",
    "dateTo = today.strftime(\"%Y%m%d%H%M%S\")"
   ]
  },
  {
   "cell_type": "code",
   "execution_count": 7,
   "metadata": {},
   "outputs": [],
   "source": [
    "timeStr = time.strftime(\"%Y%m%d%H%M%S\")\n",
    "qs = \"method=GetAllBetDetailsForTimeInterval\"\n",
    "qs = qs + \"&Key=\" + '494DA5A7FC954AA4973456A08609C2F9'\n",
    "qs = qs + \"&Time=\" + timeStr\n",
    "qs = qs + \"&FromTime=\" + dateFrom\n",
    "qs = qs + \"&ToTime=\" + dateTo"
   ]
  },
  {
   "cell_type": "code",
   "execution_count": 8,
   "metadata": {},
   "outputs": [],
   "source": [
    "q = DESEnCode(qs, defaultSPEncrypKey)\n",
    "sig = BuildMD5(qs + defaultSPMd5key + timeStr + defaultSPSecretKey)\n",
    "\n",
    "data = urllib.parse.urlencode({'q': q, 's': sig})"
   ]
  },
  {
   "cell_type": "code",
   "execution_count": 9,
   "metadata": {},
   "outputs": [],
   "source": [
    "url = 'http://localhost:8800/'\n",
    "\n",
    "res = requests.post(url, data=data)"
   ]
  },
  {
   "cell_type": "code",
   "execution_count": 10,
   "metadata": {},
   "outputs": [],
   "source": [
    "# Parse the XML response\n",
    "root = ET.fromstring(res.text)"
   ]
  },
  {
   "cell_type": "code",
   "execution_count": 12,
   "metadata": {},
   "outputs": [],
   "source": [
    "from pyspark.sql import SparkSession\n",
    "from datetime import date\n",
    "from pyspark.sql import Row\n",
    "from pyspark.sql.functions import lit"
   ]
  },
  {
   "cell_type": "code",
   "execution_count": 13,
   "metadata": {},
   "outputs": [
    {
     "name": "stderr",
     "output_type": "stream",
     "text": [
      "23/08/09 14:12:56 WARN Utils: Your hostname, tns-des180 resolves to a loopback address: 127.0.1.1; using 172.24.31.35 instead (on interface enp2s0)\n",
      "23/08/09 14:12:56 WARN Utils: Set SPARK_LOCAL_IP if you need to bind to another address\n",
      "Setting default log level to \"WARN\".\n",
      "To adjust logging level use sc.setLogLevel(newLevel). For SparkR, use setLogLevel(newLevel).\n",
      "23/08/09 14:13:00 WARN NativeCodeLoader: Unable to load native-hadoop library for your platform... using builtin-java classes where applicable\n"
     ]
    }
   ],
   "source": [
    "spark = SparkSession.builder \\\n",
    "    .appName(\"HadoopSparkTest\") \\\n",
    "    .master(\"local\") \\\n",
    "    .getOrCreate()"
   ]
  },
  {
   "cell_type": "code",
   "execution_count": 18,
   "metadata": {},
   "outputs": [
    {
     "ename": "AttributeError",
     "evalue": "'DataFrameReader' object has no attribute 'xml'",
     "output_type": "error",
     "traceback": [
      "\u001b[0;31m---------------------------------------------------------------------------\u001b[0m",
      "\u001b[0;31mAttributeError\u001b[0m                            Traceback (most recent call last)",
      "Cell \u001b[0;32mIn[18], line 4\u001b[0m\n\u001b[1;32m      1\u001b[0m df \u001b[39m=\u001b[39m spark\u001b[39m.\u001b[39;49mread \\\n\u001b[1;32m      2\u001b[0m     \u001b[39m.\u001b[39;49mformat(\u001b[39m\"\u001b[39;49m\u001b[39mcom.databricks.spark.xml\u001b[39;49m\u001b[39m\"\u001b[39;49m) \\\n\u001b[1;32m      3\u001b[0m     \u001b[39m.\u001b[39;49moption(\u001b[39m\"\u001b[39;49m\u001b[39mrowTag\u001b[39;49m\u001b[39m\"\u001b[39;49m, \u001b[39m\"\u001b[39;49m\u001b[39mHistoryResponse\u001b[39;49m\u001b[39m\"\u001b[39;49m) \\\n\u001b[0;32m----> 4\u001b[0m     \u001b[39m.\u001b[39;49mxml(res\u001b[39m.\u001b[39mtext)\n",
      "\u001b[0;31mAttributeError\u001b[0m: 'DataFrameReader' object has no attribute 'xml'"
     ]
    }
   ],
   "source": [
    "df = spark.read \\\n",
    "    .format(\"com.databricks.spark.xml\") \\\n",
    "    .option(\"rowTag\", \"HistoryResponse\") \\\n",
    "    .xml(res.text)"
   ]
  },
  {
   "cell_type": "code",
   "execution_count": 19,
   "metadata": {},
   "outputs": [
    {
     "ename": "SyntaxError",
     "evalue": "invalid syntax (2191294854.py, line 1)",
     "output_type": "error",
     "traceback": [
      "\u001b[0;36m  Cell \u001b[0;32mIn[19], line 1\u001b[0;36m\u001b[0m\n\u001b[0;31m    schema = new StructType()\u001b[0m\n\u001b[0m                 ^\u001b[0m\n\u001b[0;31mSyntaxError\u001b[0m\u001b[0;31m:\u001b[0m invalid syntax\n"
     ]
    }
   ],
   "source": [
    "df = spark.read\n",
    "  .option(\"rowTag\", \"HistoryResponse\")\n",
    "  .schema(schema)\n",
    "  .xml(res.text)\n",
    "\n",
    "df.show()"
   ]
  },
  {
   "cell_type": "code",
   "execution_count": 11,
   "metadata": {},
   "outputs": [],
   "source": [
    "# Access elements in the XML and extract data\n",
    "error_msg_id = root.find('ErrorMsgId').text\n",
    "error_msg = root.find('ErrorMsg').text"
   ]
  },
  {
   "cell_type": "code",
   "execution_count": 19,
   "metadata": {},
   "outputs": [
    {
     "name": "stdout",
     "output_type": "stream",
     "text": [
      "{'ErrorMsgID': '0', 'ErrorMsg': 'Success', 'BetDetailList': [{'BetTime': '2023-08-01 12:00:00', 'PayoutTime': '2023-08-01 13:00:00', 'Username': 'user1', 'HostID': '1', 'Detail': 'Bet on slot machine', 'GameID': 'slot123', 'Round': '1', 'Set': '1', 'BetID': '123456789', 'BetAmount': '100', 'Rolling': '50', 'ResultAmount': '150', 'Balance': '500', 'GameType': 'slot', 'BetType': '1', 'BetSource': '1', 'TransactionID': '987654321', 'GameResult': 'Win', 'State': 'true'}, {'BetTime': '2023-08-01 12:00:00', 'PayoutTime': '2023-08-01 13:00:00', 'Username': 'user2', 'HostID': '2', 'Detail': 'Bet on slot machine', 'GameID': 'fishing123', 'Round': '1', 'Set': '1', 'BetID': '123456789', 'BetAmount': '100', 'Rolling': '50', 'ResultAmount': '150', 'Balance': '500', 'GameType': 'fishing', 'BetType': '1', 'BetSource': '1', 'TransactionID': '987654321', 'GameResult': 'Win', 'State': 'true'}]}\n"
     ]
    }
   ],
   "source": [
    "# Access nested elements\n",
    "bet_details = []\n",
    "for b in root.findall('.//BetDetail'):\n",
    "    # Create a dictionary to store the data for each bet detail\n",
    "    bet_data = {\n",
    "        'BetTime': b.find('BetTime').text,\n",
    "        'PayoutTime': b.find('PayoutTime').text,\n",
    "        'BetTime': b.find('BetTime').text,\n",
    "        'PayoutTime': b.find('PayoutTime').text,\n",
    "        'Username': b.find('Username').text,\n",
    "        'HostID': b.find('HostID').text,\n",
    "        'Detail': b.find('Detail').text,\n",
    "        'GameID': b.find('GameID').text,\n",
    "        'Round': b.find('Round').text,\n",
    "        'Set': b.find('Set').text,\n",
    "        'BetID': b.find('BetID').text,\n",
    "        'BetAmount': b.find('BetAmount').text,\n",
    "        'Rolling': b.find('Rolling').text,\n",
    "        'ResultAmount': b.find('ResultAmount').text,\n",
    "        'Balance': b.find('Balance').text,\n",
    "        'GameType': b.find('GameType').text,\n",
    "        'BetType': b.find('BetType').text,\n",
    "        'BetSource': b.find('BetSource').text,\n",
    "        'TransactionID': b.find('TransactionID').text,\n",
    "        'GameResult': b.find('GameResult').text,\n",
    "        'State': b.find('State').text,\n",
    "    }\n",
    "    bet_details.append(bet_data)\n",
    "\n",
    "# Create a dictionary to store the entire response\n",
    "history = {\n",
    "    'ErrorMsgID': error_msg_id,\n",
    "    'ErrorMsg': error_msg,\n",
    "    'BetDetailList': bet_details,\n",
    "}\n",
    "\n",
    "# You can then work with the data in the 'history_response' dictionary\n",
    "print(history)"
   ]
  },
  {
   "cell_type": "markdown",
   "metadata": {},
   "source": [
    "# Creating a Table"
   ]
  },
  {
   "cell_type": "code",
   "execution_count": 41,
   "metadata": {},
   "outputs": [],
   "source": [
    "temp = {\n",
    "    \"database_name\" : \"temp_collector\"\n",
    "}"
   ]
  },
  {
   "cell_type": "code",
   "execution_count": 43,
   "metadata": {},
   "outputs": [],
   "source": [
    "# Connection parameters\n",
    "hive_params = {\n",
    "    \"host\" : \"172.17.0.1\",\n",
    "    \"port\" : 10000,  # Default Hive server port\n",
    "    \"database\" : temp['database_name'],\n",
    "    \"username\" : \"scott\", \n",
    "    \"password\" : \"tiger\",\n",
    "    \"auth\" : 'CUSTOM'\n",
    "}"
   ]
  },
  {
   "cell_type": "code",
   "execution_count": 44,
   "metadata": {},
   "outputs": [],
   "source": [
    "\n",
    "# Establish the connection\n",
    "conn = hive.Connection(**hive_params)\n"
   ]
  },
  {
   "cell_type": "code",
   "execution_count": 52,
   "metadata": {},
   "outputs": [],
   "source": [
    "cursor = conn.cursor()"
   ]
  },
  {
   "cell_type": "code",
   "execution_count": 58,
   "metadata": {},
   "outputs": [],
   "source": [
    "# Create a table for simpleplay_wager\n",
    "hive_sql = \"\"\"CREATE TABLE IF NOT EXISTS simpleplay_wager (\n",
    "    bet_time STRING,\n",
    "    payout_time STRING,\n",
    "    username STRING,\n",
    "    host_id SMALLINT,\n",
    "    detail STRING,\n",
    "    game_id STRING,\n",
    "    round_num INT,\n",
    "    set_num INT,\n",
    "    bet_id BIGINT,\n",
    "    bet_amount DOUBLE,\n",
    "    rolling DOUBLE,\n",
    "    result_amount DOUBLE,\n",
    "    balance DOUBLE,\n",
    "    game_type STRING,\n",
    "    bet_type INT,\n",
    "    bet_source INT,\n",
    "    transaction_id BIGINT,\n",
    "    game_result STRING,\n",
    "    state BOOLEAN\n",
    "    )\"\"\""
   ]
  },
  {
   "cell_type": "code",
   "execution_count": 57,
   "metadata": {},
   "outputs": [],
   "source": [
    "# Execute SQL\n",
    "cursor.execute(hive_sql)"
   ]
  },
  {
   "cell_type": "markdown",
   "metadata": {},
   "source": [
    "# Saving the file to the table"
   ]
  },
  {
   "cell_type": "code",
   "execution_count": 68,
   "metadata": {},
   "outputs": [],
   "source": [
    "insert_query_template = \"\"\"\n",
    "INSERT INTO simpleplay_wager (\n",
    "    bet_time,\n",
    "    payout_time,\n",
    "    username,\n",
    "    host_id,\n",
    "    detail,\n",
    "    game_id,\n",
    "    round_num,\n",
    "    set_num,\n",
    "    bet_id,\n",
    "    bet_amount,\n",
    "    rolling,\n",
    "    result_amount,\n",
    "    balance,\n",
    "    game_type,\n",
    "    bet_type,\n",
    "    bet_source,\n",
    "    transaction_id,\n",
    "    game_result,\n",
    "    state\n",
    ")\n",
    "VALUES (\n",
    "    %(BetTime)s,\n",
    "    %(PayoutTime)s,\n",
    "    %(Username)s,\n",
    "    %(HostID)s,\n",
    "    %(Detail)s,\n",
    "    %(GameID)s,\n",
    "    %(Round)s,\n",
    "    %(Set)s,\n",
    "    %(BetID)s,\n",
    "    %(BetAmount)s,\n",
    "    %(Rolling)s,\n",
    "    %(ResultAmount)s,\n",
    "    %(Balance)s,\n",
    "    %(GameType)s,\n",
    "    %(BetType)s,\n",
    "    %(BetSource)s,\n",
    "    %(TransactionID)s,\n",
    "    %(GameResult)s,\n",
    "    %(State)s\n",
    ")\n",
    "\"\"\""
   ]
  },
  {
   "cell_type": "code",
   "execution_count": 69,
   "metadata": {},
   "outputs": [],
   "source": [
    "for row_data in bet_details:\n",
    "    cursor.execute(insert_query_template, row_data)"
   ]
  },
  {
   "cell_type": "code",
   "execution_count": null,
   "metadata": {},
   "outputs": [],
   "source": [
    "conn.commit()\n",
    "conn.close()"
   ]
  }
 ],
 "metadata": {
  "kernelspec": {
   "display_name": "airflow_env",
   "language": "python",
   "name": "python3"
  },
  "language_info": {
   "codemirror_mode": {
    "name": "ipython",
    "version": 3
   },
   "file_extension": ".py",
   "mimetype": "text/x-python",
   "name": "python",
   "nbconvert_exporter": "python",
   "pygments_lexer": "ipython3",
   "version": "3.10.12"
  },
  "orig_nbformat": 4
 },
 "nbformat": 4,
 "nbformat_minor": 2
}
