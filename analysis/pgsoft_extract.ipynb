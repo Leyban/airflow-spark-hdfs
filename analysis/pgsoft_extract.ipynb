{
 "cells": [
  {
   "cell_type": "code",
   "execution_count": 16,
   "metadata": {},
   "outputs": [],
   "source": [
    "from datetime import datetime, timedelta, timezone\n",
    "import requests\n",
    "import json\n",
    "\n",
    "from pyspark.sql import SparkSession\n",
    "from pyspark.conf import SparkConf\n",
    "from pyspark.sql import Row\n",
    "from datetime import date\n",
    "from pyspark.sql.functions import lit\n",
    "import pyspark"
   ]
  },
  {
   "cell_type": "code",
   "execution_count": 17,
   "metadata": {},
   "outputs": [],
   "source": [
    "spark = SparkSession.builder \\\n",
    "    .appName(\"Fetch_PGSoft_to_HDFS\") \\\n",
    "    .master(\"local\") \\\n",
    "    .enableHiveSupport() \\\n",
    "    .getOrCreate()"
   ]
  },
  {
   "cell_type": "code",
   "execution_count": 18,
   "metadata": {},
   "outputs": [],
   "source": [
    "PGSOFT_OLD_VERSION_TABLE ='pgsoft_old_version'\n",
    "\n",
    "secret_key = \"\"\n",
    "operator_token = \"\"\n",
    "pg_history_url = \"\"\n",
    "\n",
    "history_api = '/v2/Bet/GetHistory'\n",
    "\n",
    "# url = f\"{pg_history_url}{history_api}\" \n",
    "\n",
    "url = \"http://localhost:8800/pg_soft\" # MockAPI"
   ]
  },
  {
   "cell_type": "markdown",
   "metadata": {},
   "source": [
    "### This can be executed in AIRFLOW then pass it via xcom"
   ]
  },
  {
   "cell_type": "code",
   "execution_count": 19,
   "metadata": {},
   "outputs": [],
   "source": [
    "from airflow.providers.postgres.hooks.postgres import PostgresHook\n",
    "\n",
    "def get_pgversion():\n",
    "    conn_collector_pg_hook = PostgresHook(postgres_conn_id='collector_conn_id')\n",
    "    query = \"\"\"\n",
    "        SELECT row_version FROM {0} LIMIT 1\n",
    "    \"\"\".format(PGSOFT_OLD_VERSION_TABLE)\n",
    "\n",
    "    df = conn_collector_pg_hook.get_pandas_df(query)\n",
    "    if not df.empty:\n",
    "        latest_row_version = df['row_version'].iloc[0]\n",
    "        return latest_row_version\n",
    "    else:\n",
    "        return None"
   ]
  },
  {
   "cell_type": "code",
   "execution_count": 20,
   "metadata": {},
   "outputs": [],
   "source": [
    "# def get_some_value(**kwargs):\n",
    "#     some_value = 10\n",
    "#     return some_value\n",
    "\n",
    "# task1 = PythonOperator(task_id='run_task_1',\n",
    "#                        python_callable=get_some_value,\n",
    "#                        provide_context=True,\n",
    "#                        dag=dag)\n",
    "\n",
    "# task2 = SparkSubmitOperator(\n",
    "#     task_id='run_sparkSubmit_job',\n",
    "#     conn_id='spark_default',\n",
    "#     java_class='com.example',\n",
    "#     application='example.jar',\n",
    "#     name='airflow-spark-job',\n",
    "#     verbose=True,\n",
    "#     application_args=[\"{{ti.xcom_pull(task_ids='get_pgsoft_row_version')}}\"],  \n",
    "#     conf={'master':'yarn'},\n",
    "#     dag=dag,\n",
    "# )"
   ]
  },
  {
   "cell_type": "markdown",
   "metadata": {},
   "source": [
    "# Grab the row version"
   ]
  },
  {
   "cell_type": "code",
   "execution_count": 21,
   "metadata": {},
   "outputs": [],
   "source": [
    "import sys\n",
    "latest_row_version = sys.argv[1]"
   ]
  },
  {
   "cell_type": "code",
   "execution_count": 22,
   "metadata": {},
   "outputs": [
    {
     "name": "stdout",
     "output_type": "stream",
     "text": [
      "Start download pg: row_version --ip=127.0.0.1\n",
      "response contains 5006 rows\n"
     ]
    }
   ],
   "source": [
    "# try:\n",
    "form_data = {\n",
    "    \"secret_key\":     secret_key,\n",
    "    \"operator_token\": operator_token,\n",
    "    \"bet_type\":        \"1\",\n",
    "    \"row_version\":  latest_row_version,\n",
    "    \"count\":          \"5000\"\n",
    "}\n",
    "\n",
    "print(f\"Start download pg: row_version {latest_row_version}\")\n",
    "response = requests.post(url, data=form_data)\n",
    "response.raise_for_status() \n",
    "print(f\"response contains {len(response.json())} rows\")\n",
    "\n",
    "json_data = response.json()\n",
    "df = spark.createDataFrame(json_data) \n",
    "\n",
    "# options = { 'url' : url, 'method' : 'GET', 'readTimeout' : '10000', 'connectionTimeout' : '2000', 'partitions' : '10'}\n",
    "\n",
    "# df = spark.read.format(\"org.apache.dsext.spark.datasource.rest.RestDataSource\").options(**options).load()\n",
    "\n",
    "# if response.status_code == 404:\n",
    "#     print(\"Error 404: Not Found\")\n",
    "# else:\n",
    "#     json_content = response.json()\n",
    "#     print(json_content)\n",
    "\n",
    "# except requests.exceptions.RequestException as err:\n",
    "# print(\"Request error:\", err)"
   ]
  },
  {
   "cell_type": "code",
   "execution_count": 23,
   "metadata": {},
   "outputs": [
    {
     "name": "stdout",
     "output_type": "stream",
     "text": [
      "root\n",
      " |-- balanceAfter: long (nullable = true)\n",
      " |-- balanceBefore: long (nullable = true)\n",
      " |-- betAmount: long (nullable = true)\n",
      " |-- betId: long (nullable = true)\n",
      " |-- betTime: string (nullable = true)\n",
      " |-- betType: long (nullable = true)\n",
      " |-- currency: string (nullable = true)\n",
      " |-- gameId: long (nullable = true)\n",
      " |-- id: long (nullable = true)\n",
      " |-- jackpotRtpContributionAmount: long (nullable = true)\n",
      " |-- jackpotWinAmount: long (nullable = true)\n",
      " |-- parentBetId: long (nullable = true)\n",
      " |-- platform: long (nullable = true)\n",
      " |-- playerName: string (nullable = true)\n",
      " |-- rowVersion: long (nullable = true)\n",
      " |-- transactionType: long (nullable = true)\n",
      " |-- winAmount: long (nullable = true)\n",
      "\n"
     ]
    }
   ],
   "source": [
    "df.printSchema()"
   ]
  },
  {
   "cell_type": "code",
   "execution_count": 24,
   "metadata": {},
   "outputs": [],
   "source": [
    "from pyspark.sql.functions import to_timestamp, year, quarter, date_format, col"
   ]
  },
  {
   "cell_type": "code",
   "execution_count": 25,
   "metadata": {},
   "outputs": [
    {
     "name": "stderr",
     "output_type": "stream",
     "text": [
      "23/08/11 11:43:06 WARN package: Truncated the string representation of a plan since it was too large. This behavior can be adjusted by setting 'spark.sql.debug.maxToStringFields'.\n",
      "[Stage 0:>                                                          (0 + 1) / 1]\r"
     ]
    },
    {
     "name": "stdout",
     "output_type": "stream",
     "text": [
      "+-------+-----------------+------------------+------------------+------------------+--------------------+-----------------+--------+-----------------+------------------+----------------------------+-----------------+------------------+------------------+----------+-----------------+-----------------+------------------+\n",
      "|summary|     balanceAfter|     balanceBefore|         betAmount|             betId|             betTime|          betType|currency|           gameId|                id|jackpotRtpContributionAmount| jackpotWinAmount|       parentBetId|          platform|playerName|       rowVersion|  transactionType|         winAmount|\n",
      "+-------+-----------------+------------------+------------------+------------------+--------------------+-----------------+--------+-----------------+------------------+----------------------------+-----------------+------------------+------------------+----------+-----------------+-----------------+------------------+\n",
      "|  count|             5003|              5003|              5003|              5000|                5003|             5003|    5000|             5003|              5006|                        5003|             5003|              5003|              5003|      5000|             5003|             5003|              5003|\n",
      "|   mean|512.9520287827304|511.51948830701576| 521.4369378372976|       499613.5366|                null|514.7657405556666|    null|520.3735758544873|            2503.5|           509.4481311213272|507.3587847291625|493743.86967819306|510.19928043174093|      null|515.2796322206676| 517.879672196682|510.30821507095743|\n",
      "| stddev|293.1006825194102| 295.3870829242106|295.28349840958657|289828.35362733994|                null|296.5631649501742|    null|296.8884744324797|1445.2520541414221|          293.66407138646707|294.4288709557221| 289484.4756388512| 295.0310145453605|      null| 297.050792777109|295.1773901163131| 296.0187752497331|\n",
      "|    min|                1|                 1|                 1|                87|1970-01-01T22:08:04Z|                1|   aalvm|                1|                 1|                           1|                1|               123|                 1|     aaimi|                1|                1|                 1|\n",
      "|    max|             1024|              1024|              1024|            999850|2023-08-10T16:55:56Z|             1024|   zzwhc|             1024|              5006|                        1024|             1024|            999989|              1023|     zzdiu|             1023|             1024|              1023|\n",
      "+-------+-----------------+------------------+------------------+------------------+--------------------+-----------------+--------+-----------------+------------------+----------------------------+-----------------+------------------+------------------+----------+-----------------+-----------------+------------------+\n",
      "\n"
     ]
    },
    {
     "name": "stderr",
     "output_type": "stream",
     "text": [
      "                                                                                \r"
     ]
    }
   ],
   "source": [
    "df.describe().show()"
   ]
  },
  {
   "cell_type": "code",
   "execution_count": 26,
   "metadata": {},
   "outputs": [],
   "source": [
    "out_df = df \\\n",
    "    .withColumn(\"betTime\",to_timestamp(df[\"betTime\"])) \\\n",
    "    .withColumn(\"year\", date_format(col(\"betTime\"), \"yyyy\")) \\\n",
    "    .withColumn(\"quarter\", date_format(col(\"betTime\"), \"Q\")) "
   ]
  },
  {
   "cell_type": "code",
   "execution_count": 27,
   "metadata": {},
   "outputs": [
    {
     "name": "stdout",
     "output_type": "stream",
     "text": [
      "+-------+-----------------+------------------+------------------+------------------+-----------------+--------+-----------------+------------------+----------------------------+-----------------+------------------+------------------+----------+-----------------+-----------------+------------------+------------------+-----------------+\n",
      "|summary|     balanceAfter|     balanceBefore|         betAmount|             betId|          betType|currency|           gameId|                id|jackpotRtpContributionAmount| jackpotWinAmount|       parentBetId|          platform|playerName|       rowVersion|  transactionType|         winAmount|              year|          quarter|\n",
      "+-------+-----------------+------------------+------------------+------------------+-----------------+--------+-----------------+------------------+----------------------------+-----------------+------------------+------------------+----------+-----------------+-----------------+------------------+------------------+-----------------+\n",
      "|  count|             5003|              5003|              5003|              5000|             5003|    5000|             5003|              5006|                        5003|             5003|              5003|              5003|      5000|             5003|             5003|              5003|              5003|             5003|\n",
      "|   mean|512.9520287827304|511.51948830701576| 521.4369378372976|       499613.5366|514.7657405556666|    null|520.3735758544873|            2503.5|           509.4481311213272|507.3587847291625|493743.86967819306|510.19928043174093|      null|515.2796322206676| 517.879672196682|510.30821507095743| 1996.120927443534| 2.49370377773336|\n",
      "| stddev|293.1006825194102| 295.3870829242106|295.28349840958657|289828.35362733994|296.5631649501742|    null|296.8884744324797|1445.2520541414221|          293.66407138646707|294.4288709557221| 289484.4756388512| 295.0310145453605|      null| 297.050792777109|295.1773901163131| 296.0187752497331|15.674925405396573|1.111582694793676|\n",
      "|    min|                1|                 1|                 1|                87|                1|   aalvm|                1|                 1|                           1|                1|               123|                 1|     aaimi|                1|                1|                 1|              1970|                1|\n",
      "|    max|             1024|              1024|              1024|            999850|             1024|   zzwhc|             1024|              5006|                        1024|             1024|            999989|              1023|     zzdiu|             1023|             1024|              1023|              2023|                4|\n",
      "+-------+-----------------+------------------+------------------+------------------+-----------------+--------+-----------------+------------------+----------------------------+-----------------+------------------+------------------+----------+-----------------+-----------------+------------------+------------------+-----------------+\n",
      "\n"
     ]
    }
   ],
   "source": [
    "out_df.describe().show()"
   ]
  },
  {
   "cell_type": "code",
   "execution_count": 28,
   "metadata": {},
   "outputs": [
    {
     "name": "stdout",
     "output_type": "stream",
     "text": [
      "+-------+------------------+------------------+------------------+-----------------+------------------+--------+------+-----------------+----------------------------+-----------------+------------------+------------------+----------+-----------------+------------------+------------------+------------------+------------------+\n",
      "|summary|      balanceAfter|     balanceBefore|         betAmount|            betId|           betType|currency|gameId|               id|jackpotRtpContributionAmount| jackpotWinAmount|       parentBetId|          platform|playerName|       rowVersion|   transactionType|         winAmount|              year|           quarter|\n",
      "+-------+------------------+------------------+------------------+-----------------+------------------+--------+------+-----------------+----------------------------+-----------------+------------------+------------------+----------+-----------------+------------------+------------------+------------------+------------------+\n",
      "|  count|                 7|                 7|                 7|                4|                 7|       4|     7|                7|                           7|                7|                 7|                 7|         4|                7|                 7|                 7|                 7|                 7|\n",
      "|   mean|356.85714285714283|482.14285714285717|332.14285714285717|        617054.75| 264.7142857142857|    null| 123.0|4199.142857142857|          177.85714285714286|370.2857142857143|190194.57142857142|191.71428571428572|      null|345.7142857142857|412.14285714285717|200.14285714285714|2013.7142857142858|2.7142857142857144|\n",
      "| stddev|327.52935164726256| 347.3880772140521|354.04633810252795|78895.95013845767|292.04720753428103|    null|   0.0|935.8487108095035|          178.81781098036492|290.0756879883331|228994.28293653764|123.19458089504084|      null|282.3235226270943|388.83005223851916| 170.2512149456684|13.187295473476041|0.7559289460184544|\n",
      "|    min|               113|               123|                98|           515479|                 8|   bfsci|   123|             2824|                          17|              123|               123|                43|     hmsqn|              123|                37|                25|              1986|                 2|\n",
      "|    max|               949|               825|               922|           699908|               866|   uoneg|   123|             5006|                         505|              856|            633376|               391|     vgfnb|              900|               843|               501|              2023|                 4|\n",
      "+-------+------------------+------------------+------------------+-----------------+------------------+--------+------+-----------------+----------------------------+-----------------+------------------+------------------+----------+-----------------+------------------+------------------+------------------+------------------+\n",
      "\n"
     ]
    }
   ],
   "source": [
    "out_df[out_df['gameId'] == 123 ].describe().show()"
   ]
  },
  {
   "cell_type": "code",
   "execution_count": 29,
   "metadata": {},
   "outputs": [
    {
     "name": "stdout",
     "output_type": "stream",
     "text": [
      "root\n",
      " |-- balanceAfter: long (nullable = true)\n",
      " |-- balanceBefore: long (nullable = true)\n",
      " |-- betAmount: long (nullable = true)\n",
      " |-- betId: long (nullable = true)\n",
      " |-- betTime: timestamp (nullable = true)\n",
      " |-- betType: long (nullable = true)\n",
      " |-- currency: string (nullable = true)\n",
      " |-- gameId: long (nullable = true)\n",
      " |-- id: long (nullable = true)\n",
      " |-- jackpotRtpContributionAmount: long (nullable = true)\n",
      " |-- jackpotWinAmount: long (nullable = true)\n",
      " |-- parentBetId: long (nullable = true)\n",
      " |-- platform: long (nullable = true)\n",
      " |-- playerName: string (nullable = true)\n",
      " |-- rowVersion: long (nullable = true)\n",
      " |-- transactionType: long (nullable = true)\n",
      " |-- winAmount: long (nullable = true)\n",
      " |-- year: string (nullable = true)\n",
      " |-- quarter: string (nullable = true)\n",
      "\n"
     ]
    }
   ],
   "source": [
    "out_df.printSchema()"
   ]
  },
  {
   "cell_type": "code",
   "execution_count": 30,
   "metadata": {},
   "outputs": [
    {
     "name": "stderr",
     "output_type": "stream",
     "text": [
      "                                                                                \r"
     ]
    }
   ],
   "source": [
    "tblLocation = './user/hive/datalake/wagers/pgsoft'\n",
    "out_df.write.partitionBy('year', 'quarter').mode('append').parquet(tblLocation)"
   ]
  },
  {
   "cell_type": "code",
   "execution_count": 31,
   "metadata": {},
   "outputs": [],
   "source": [
    "# tblLocation = './user/hive/datalake/wagers/pgsoft2'\n",
    "# out_df.write.partitionBy('year_quarter').mode('append').parquet(tblLocation)"
   ]
  },
  {
   "cell_type": "code",
   "execution_count": 32,
   "metadata": {},
   "outputs": [],
   "source": [
    "# tblLocation = './user/hive/datalake/wagers/pgsoft3'\n",
    "# out_df.write.partitionBy('year', 'month', 'day').mode('append').parquet(tblLocation)"
   ]
  }
 ],
 "metadata": {
  "kernelspec": {
   "display_name": "airflow_env",
   "language": "python",
   "name": "python3"
  },
  "language_info": {
   "codemirror_mode": {
    "name": "ipython",
    "version": 3
   },
   "file_extension": ".py",
   "mimetype": "text/x-python",
   "name": "python",
   "nbconvert_exporter": "python",
   "pygments_lexer": "ipython3",
   "version": "3.10.12"
  },
  "orig_nbformat": 4
 },
 "nbformat": 4,
 "nbformat_minor": 2
}
