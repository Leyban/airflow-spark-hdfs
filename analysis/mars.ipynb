{
 "cells": [
  {
   "cell_type": "code",
   "execution_count": 1,
   "metadata": {},
   "outputs": [],
   "source": [
    "from airflow import DAG\n",
    "from airflow.operators.python import PythonOperator\n",
    "from airflow.providers.postgres.hooks.postgres import PostgresHook\n",
    "import datetime"
   ]
  },
  {
   "cell_type": "code",
   "execution_count": 3,
   "metadata": {},
   "outputs": [],
   "source": [
    "conn_collector_pg_hook = PostgresHook(postgres_conn_id='collector_conn_id')\n",
    "PGSOFT_WAGER_TABLE ='pgsoft_wager'\n",
    "NEW_PGSOFT_WAGER_TABLE ='new_pgsoft_wager'\n",
    "PGSOFT_VERSION_TABLE='pgsoft_version'"
   ]
  },
  {
   "cell_type": "code",
   "execution_count": 4,
   "metadata": {},
   "outputs": [],
   "source": [
    "def start_end_day(bettime):\n",
    "    start_time = datetime.datetime(bettime.year, bettime.month, bettime.day, 0, 0, 0, 0, tzinfo=datetime.timezone.utc)\n",
    "    end_time = start_time + datetime.timedelta(days=1) - datetime.timedelta(seconds=1)\n",
    "    return start_time,end_time\n",
    "\n",
    "def get_new_pgsoft_wager():\n",
    "    query =\"\"\"\n",
    "        SELECT * FROM {0}\n",
    "    \"\"\".format(NEW_PGSOFT_WAGER_TABLE)\n",
    "\n",
    "    df = conn_collector_pg_hook.get_pandas_df(query)\n",
    "    return df"
   ]
  },
  {
   "cell_type": "code",
   "execution_count": 2,
   "metadata": {},
   "outputs": [],
   "source": [
    "def move_data_pgsoft_wager():\n",
    "    utc_now = datetime.datetime.utcnow()\n",
    "    df = get_new_pgsoft_wager()\n",
    "    if not df.empty:\n",
    "        try:\n",
    "            connection = conn_collector_pg_hook.get_conn()\n",
    "            cursor = connection.cursor()\n",
    "            cursor.execute('BEGIN;')\n",
    "            for w in df.itertuples(index=False):\n",
    "                start_time,end_time =start_end_day(w.BetTime)\n",
    "                save_pgwagers =\"\"\"\n",
    "                INSERT INTO {0} \n",
    "                (\n",
    "                    bet_id, parent_bet_id, player_name, currency, game_id, platform, bet_type,\n",
    "                    transaction_type, bet_amount, win_amount, jackpot_rtp_contribution_amount,\n",
    "                    jackpot_win_amount, balance_before, balance_after, row_version, bet_time,\n",
    "                    create_at, update_at\n",
    "                )\n",
    "                SELECT\n",
    "                {1}, {2}, {3}, {4}, {5}, {6}, {7}, {8}, {9}, {10}, \n",
    "                {11}, {12}, {13}, {14}, {15}, {16}, {17}, {18}\n",
    "                WHERE NOT EXISTS (SELECT 1 FROM {19} WHERE bet_id = {20} );\n",
    "                        \"\"\".format(PGSOFT_WAGER_TABLE,w.BetID, w.ParentBetID, w.PlayerName,\n",
    "                    w.Currency, w.GameID, w.Platform, w.BetType, w.TransactionType, w.BetAmount, w.WinAmount,\n",
    "                    w.JackpotRtpContributionAmount, w.JackpotWinAmount, w.BalanceBefore, w.BalanceAfter,\n",
    "                    w.RowVersion, w.BetTime,PGSOFT_WAGER_TABLE,\n",
    "                    w.BetID,start_time,end_time)\n",
    "\n",
    "                cursor.execute(save_pgwagers)\n",
    "\n",
    "            connection.commit()\n",
    "        except Exception as e:\n",
    "            print(f\"Error occurred: {e}\")\n",
    "            connection.rollback() \n",
    "        finally:\n",
    "            cursor.close()\n",
    "            connection.close()"
   ]
  },
  {
   "cell_type": "code",
   "execution_count": 5,
   "metadata": {},
   "outputs": [
    {
     "ename": "AirflowNotFoundException",
     "evalue": "The conn_id `collector_conn_id` isn't defined",
     "output_type": "error",
     "traceback": [
      "\u001b[0;31m---------------------------------------------------------------------------\u001b[0m",
      "\u001b[0;31mAirflowNotFoundException\u001b[0m                  Traceback (most recent call last)",
      "Cell \u001b[0;32mIn[5], line 1\u001b[0m\n\u001b[0;32m----> 1\u001b[0m move_data_pgsoft_wager()\n",
      "Cell \u001b[0;32mIn[2], line 21\u001b[0m, in \u001b[0;36mmove_data_pgsoft_wager\u001b[0;34m()\u001b[0m\n\u001b[1;32m     19\u001b[0m \u001b[39mdef\u001b[39;00m \u001b[39mmove_data_pgsoft_wager\u001b[39m():\n\u001b[1;32m     20\u001b[0m     utc_now \u001b[39m=\u001b[39m datetime\u001b[39m.\u001b[39mdatetime\u001b[39m.\u001b[39mutcnow()\n\u001b[0;32m---> 21\u001b[0m     df \u001b[39m=\u001b[39m get_new_pgsoft_wager()\n\u001b[1;32m     22\u001b[0m     \u001b[39mif\u001b[39;00m \u001b[39mnot\u001b[39;00m df\u001b[39m.\u001b[39mempty:\n\u001b[1;32m     23\u001b[0m         \u001b[39mtry\u001b[39;00m:\n",
      "Cell \u001b[0;32mIn[4], line 11\u001b[0m, in \u001b[0;36mget_new_pgsoft_wager\u001b[0;34m()\u001b[0m\n\u001b[1;32m      6\u001b[0m \u001b[39mdef\u001b[39;00m \u001b[39mget_new_pgsoft_wager\u001b[39m():\n\u001b[1;32m      7\u001b[0m     query \u001b[39m=\u001b[39m\u001b[39m\"\"\"\u001b[39m\n\u001b[1;32m      8\u001b[0m \u001b[39m        SELECT * FROM \u001b[39m\u001b[39m{0}\u001b[39;00m\n\u001b[1;32m      9\u001b[0m \u001b[39m    \u001b[39m\u001b[39m\"\"\"\u001b[39m\u001b[39m.\u001b[39mformat(NEW_PGSOFT_WAGER_TABLE)\n\u001b[0;32m---> 11\u001b[0m     df \u001b[39m=\u001b[39m conn_collector_pg_hook\u001b[39m.\u001b[39;49mget_pandas_df(query)\n\u001b[1;32m     12\u001b[0m     \u001b[39mreturn\u001b[39;00m df\n",
      "File \u001b[0;32m~/Desktop/airflow/airflow_env/lib/python3.10/site-packages/airflow/providers/common/sql/hooks/sql.py:199\u001b[0m, in \u001b[0;36mDbApiHook.get_pandas_df\u001b[0;34m(self, sql, parameters, **kwargs)\u001b[0m\n\u001b[1;32m    193\u001b[0m \u001b[39mexcept\u001b[39;00m \u001b[39mImportError\u001b[39;00m:\n\u001b[1;32m    194\u001b[0m     \u001b[39mraise\u001b[39;00m \u001b[39mException\u001b[39;00m(\n\u001b[1;32m    195\u001b[0m         \u001b[39m\"\u001b[39m\u001b[39mpandas library not installed, run: pip install \u001b[39m\u001b[39m\"\u001b[39m\n\u001b[1;32m    196\u001b[0m         \u001b[39m\"\u001b[39m\u001b[39m'\u001b[39m\u001b[39mapache-airflow-providers-common-sql[pandas]\u001b[39m\u001b[39m'\u001b[39m\u001b[39m.\u001b[39m\u001b[39m\"\u001b[39m\n\u001b[1;32m    197\u001b[0m     )\n\u001b[0;32m--> 199\u001b[0m \u001b[39mwith\u001b[39;00m closing(\u001b[39mself\u001b[39;49m\u001b[39m.\u001b[39;49mget_conn()) \u001b[39mas\u001b[39;00m conn:\n\u001b[1;32m    200\u001b[0m     \u001b[39mreturn\u001b[39;00m psql\u001b[39m.\u001b[39mread_sql(sql, con\u001b[39m=\u001b[39mconn, params\u001b[39m=\u001b[39mparameters, \u001b[39m*\u001b[39m\u001b[39m*\u001b[39mkwargs)\n",
      "File \u001b[0;32m~/Desktop/airflow/airflow_env/lib/python3.10/site-packages/airflow/providers/postgres/hooks/postgres.py:121\u001b[0m, in \u001b[0;36mPostgresHook.get_conn\u001b[0;34m(self)\u001b[0m\n\u001b[1;32m    119\u001b[0m \u001b[39m\u001b[39m\u001b[39m\"\"\"Establishes a connection to a postgres database.\"\"\"\u001b[39;00m\n\u001b[1;32m    120\u001b[0m conn_id \u001b[39m=\u001b[39m \u001b[39mgetattr\u001b[39m(\u001b[39mself\u001b[39m, \u001b[39mself\u001b[39m\u001b[39m.\u001b[39mconn_name_attr)\n\u001b[0;32m--> 121\u001b[0m conn \u001b[39m=\u001b[39m deepcopy(\u001b[39mself\u001b[39m\u001b[39m.\u001b[39mconnection \u001b[39mor\u001b[39;00m \u001b[39mself\u001b[39;49m\u001b[39m.\u001b[39;49mget_connection(conn_id))\n\u001b[1;32m    123\u001b[0m \u001b[39m# check for authentication via AWS IAM\u001b[39;00m\n\u001b[1;32m    124\u001b[0m \u001b[39mif\u001b[39;00m conn\u001b[39m.\u001b[39mextra_dejson\u001b[39m.\u001b[39mget(\u001b[39m\"\u001b[39m\u001b[39miam\u001b[39m\u001b[39m\"\u001b[39m, \u001b[39mFalse\u001b[39;00m):\n",
      "File \u001b[0;32m~/Desktop/airflow/airflow_env/lib/python3.10/site-packages/airflow/hooks/base.py:72\u001b[0m, in \u001b[0;36mBaseHook.get_connection\u001b[0;34m(cls, conn_id)\u001b[0m\n\u001b[1;32m     64\u001b[0m \u001b[39m\u001b[39m\u001b[39m\"\"\"\u001b[39;00m\n\u001b[1;32m     65\u001b[0m \u001b[39mGet connection, given connection id.\u001b[39;00m\n\u001b[1;32m     66\u001b[0m \n\u001b[1;32m     67\u001b[0m \u001b[39m:param conn_id: connection id\u001b[39;00m\n\u001b[1;32m     68\u001b[0m \u001b[39m:return: connection\u001b[39;00m\n\u001b[1;32m     69\u001b[0m \u001b[39m\"\"\"\u001b[39;00m\n\u001b[1;32m     70\u001b[0m \u001b[39mfrom\u001b[39;00m \u001b[39mairflow\u001b[39;00m\u001b[39m.\u001b[39;00m\u001b[39mmodels\u001b[39;00m\u001b[39m.\u001b[39;00m\u001b[39mconnection\u001b[39;00m \u001b[39mimport\u001b[39;00m Connection\n\u001b[0;32m---> 72\u001b[0m conn \u001b[39m=\u001b[39m Connection\u001b[39m.\u001b[39;49mget_connection_from_secrets(conn_id)\n\u001b[1;32m     73\u001b[0m log\u001b[39m.\u001b[39minfo(\u001b[39m\"\u001b[39m\u001b[39mUsing connection ID \u001b[39m\u001b[39m'\u001b[39m\u001b[39m%s\u001b[39;00m\u001b[39m'\u001b[39m\u001b[39m for task execution.\u001b[39m\u001b[39m\"\u001b[39m, conn\u001b[39m.\u001b[39mconn_id)\n\u001b[1;32m     74\u001b[0m \u001b[39mreturn\u001b[39;00m conn\n",
      "File \u001b[0;32m~/Desktop/airflow/airflow_env/lib/python3.10/site-packages/airflow/models/connection.py:463\u001b[0m, in \u001b[0;36mConnection.get_connection_from_secrets\u001b[0;34m(cls, conn_id)\u001b[0m\n\u001b[1;32m    456\u001b[0m     \u001b[39mexcept\u001b[39;00m \u001b[39mException\u001b[39;00m:\n\u001b[1;32m    457\u001b[0m         log\u001b[39m.\u001b[39mexception(\n\u001b[1;32m    458\u001b[0m             \u001b[39m\"\u001b[39m\u001b[39mUnable to retrieve connection from secrets backend (\u001b[39m\u001b[39m%s\u001b[39;00m\u001b[39m). \u001b[39m\u001b[39m\"\u001b[39m\n\u001b[1;32m    459\u001b[0m             \u001b[39m\"\u001b[39m\u001b[39mChecking subsequent secrets backend.\u001b[39m\u001b[39m\"\u001b[39m,\n\u001b[1;32m    460\u001b[0m             \u001b[39mtype\u001b[39m(secrets_backend)\u001b[39m.\u001b[39m\u001b[39m__name__\u001b[39m,\n\u001b[1;32m    461\u001b[0m         )\n\u001b[0;32m--> 463\u001b[0m \u001b[39mraise\u001b[39;00m AirflowNotFoundException(\u001b[39mf\u001b[39m\u001b[39m\"\u001b[39m\u001b[39mThe conn_id `\u001b[39m\u001b[39m{\u001b[39;00mconn_id\u001b[39m}\u001b[39;00m\u001b[39m` isn\u001b[39m\u001b[39m'\u001b[39m\u001b[39mt defined\u001b[39m\u001b[39m\"\u001b[39m)\n",
      "\u001b[0;31mAirflowNotFoundException\u001b[0m: The conn_id `collector_conn_id` isn't defined"
     ]
    }
   ],
   "source": []
  }
 ],
 "metadata": {
  "kernelspec": {
   "display_name": "airflow_env",
   "language": "python",
   "name": "python3"
  },
  "language_info": {
   "codemirror_mode": {
    "name": "ipython",
    "version": 3
   },
   "file_extension": ".py",
   "mimetype": "text/x-python",
   "name": "python",
   "nbconvert_exporter": "python",
   "pygments_lexer": "ipython3",
   "version": "3.10.12"
  },
  "orig_nbformat": 4
 },
 "nbformat": 4,
 "nbformat_minor": 2
}
