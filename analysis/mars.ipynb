{
 "cells": [
  {
   "cell_type": "code",
   "execution_count": 1,
   "metadata": {},
   "outputs": [],
   "source": [
    "from airflow import DAG\n",
    "from airflow.operators.python import PythonOperator\n",
    "from airflow.providers.postgres.hooks.postgres import PostgresHook\n",
    "import datetime"
   ]
  },
  {
   "cell_type": "code",
   "execution_count": 3,
   "metadata": {},
   "outputs": [],
   "source": [
    "conn_collector_pg_hook = PostgresHook(postgres_conn_id='collector_conn_id')\n",
    "PGSOFT_WAGER_TABLE ='pgsoft_wager'\n",
    "NEW_PGSOFT_WAGER_TABLE ='new_pgsoft_wager'\n",
    "PGSOFT_VERSION_TABLE='pgsoft_version'"
   ]
  },
  {
   "cell_type": "code",
   "execution_count": 4,
   "metadata": {},
   "outputs": [],
   "source": [
    "def start_end_day(bettime):\n",
    "    start_time = datetime.datetime(bettime.year, bettime.month, bettime.day, 0, 0, 0, 0, tzinfo=datetime.timezone.utc)\n",
    "    end_time = start_time + datetime.timedelta(days=1) - datetime.timedelta(seconds=1)\n",
    "    return start_time,end_time\n",
    "\n",
    "def get_new_pgsoft_wager():\n",
    "    query =\"\"\"\n",
    "        SELECT * FROM {0}\n",
    "    \"\"\".format(NEW_PGSOFT_WAGER_TABLE)\n",
    "\n",
    "    df = conn_collector_pg_hook.get_pandas_df(query)\n",
    "    return df"
   ]
  },
  {
   "cell_type": "code",
   "execution_count": 2,
   "metadata": {},
   "outputs": [],
   "source": [
    "def move_data_pgsoft_wager():\n",
    "    utc_now = datetime.datetime.utcnow()\n",
    "    df = get_new_pgsoft_wager()\n",
    "    if not df.empty:\n",
    "        try:\n",
    "            connection = conn_collector_pg_hook.get_conn()\n",
    "            cursor = connection.cursor()\n",
    "            cursor.execute('BEGIN;')\n",
    "            for w in df.itertuples(index=False):\n",
    "                start_time,end_time =start_end_day(w.BetTime)\n",
    "                save_pgwagers =\"\"\"\n",
    "                INSERT INTO {0} \n",
    "                (\n",
    "                    bet_id, parent_bet_id, player_name, currency, game_id, platform, bet_type,\n",
    "                    transaction_type, bet_amount, win_amount, jackpot_rtp_contribution_amount,\n",
    "                    jackpot_win_amount, balance_before, balance_after, row_version, bet_time,\n",
    "                    create_at, update_at\n",
    "                )\n",
    "                SELECT\n",
    "                {1}, {2}, {3}, {4}, {5}, {6}, {7}, {8}, {9}, {10}, \n",
    "                {11}, {12}, {13}, {14}, {15}, {16}, {17}, {18}\n",
    "                WHERE NOT EXISTS (SELECT 1 FROM {19} WHERE bet_id = {20} );\n",
    "                        \"\"\".format(PGSOFT_WAGER_TABLE,w.BetID, w.ParentBetID, w.PlayerName,\n",
    "                    w.Currency, w.GameID, w.Platform, w.BetType, w.TransactionType, w.BetAmount, w.WinAmount,\n",
    "                    w.JackpotRtpContributionAmount, w.JackpotWinAmount, w.BalanceBefore, w.BalanceAfter,\n",
    "                    w.RowVersion, w.BetTime,PGSOFT_WAGER_TABLE,\n",
    "                    w.BetID,start_time,end_time)\n",
    "\n",
    "                cursor.execute(save_pgwagers)\n",
    "\n",
    "            connection.commit()\n",
    "        except Exception as e:\n",
    "            print(f\"Error occurred: {e}\")\n",
    "            connection.rollback() \n",
    "        finally:\n",
    "            cursor.close()\n",
    "            connection.close()"
   ]
  }
 ],
 "metadata": {
  "kernelspec": {
   "display_name": "airflow_env",
   "language": "python",
   "name": "python3"
  },
  "language_info": {
   "codemirror_mode": {
    "name": "ipython",
    "version": 3
   },
   "file_extension": ".py",
   "mimetype": "text/x-python",
   "name": "python",
   "nbconvert_exporter": "python",
   "pygments_lexer": "ipython3",
   "version": "3.10.12"
  },
  "orig_nbformat": 4
 },
 "nbformat": 4,
 "nbformat_minor": 2
}
